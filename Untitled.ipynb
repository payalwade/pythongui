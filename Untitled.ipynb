{
 "cells": [
  {
   "cell_type": "code",
   "execution_count": null,
   "id": "366e4d63",
   "metadata": {},
   "outputs": [],
   "source": [
    "print(\"Hello User Welcome to the bank\")"
   ]
  },
  {
   "cell_type": "code",
   "execution_count": null,
   "id": "93537c23",
   "metadata": {},
   "outputs": [],
   "source": [
    "Login = input(\"Enter your password... : \")\n",
    "if Login == \"payal\":\n",
    "    print(\"Successfully Logged in\")\n",
    "else:\n",
    "     print(\"Enter your correct password..\")\n"
   ]
  },
  {
   "cell_type": "code",
   "execution_count": null,
   "id": "eb9ebc21",
   "metadata": {},
   "outputs": [],
   "source": [
    "class Bank_account:\n",
    "    def _init_(self):\n",
    "        self.name = input(\"Enter your name:\")\n",
    "        self.__Account_no = int(input(\"Enter your Account number:\"))\n",
    "        self._mobile_no = int(input(\"Enter your mobile name:\"))\n",
    "        self.Deposit = int(input(\"Enter amount for deposit:\"))\n",
    "        self.withdraw = int(input(\"Enter amount you want to withdraw:\"))\n",
    "        self.__current_bal = ((self.Deposit) - (self.withdraw))\n",
    "\n",
    "    def show(self):\n",
    "        print(\"Youe name is :\", self.name)\n",
    "        print(\"your Deposited amount :\", self.Deposit)\n",
    "        print(\"your current balance is :\", self.__current_bal)\n",
    "\n",
    "\n",
    "p = Bank_account()\n",
    "p.show()\n",
    "    "
   ]
  },
  {
   "cell_type": "code",
   "execution_count": null,
   "id": "717b6746",
   "metadata": {},
   "outputs": [],
   "source": []
  },
  {
   "cell_type": "code",
   "execution_count": null,
   "id": "2ea8745c",
   "metadata": {},
   "outputs": [],
   "source": [
    "print(\"Hello User Welcome to the bank\")\n",
    "Login = input(\"Enter your password... : \")\n",
    "if Login == \"payal\":\n",
    "    print(\"Successfully Logged in\")\n",
    "else:\n",
    "     print(\"Enter your correct password..\")\n",
    "    class Bank_account:\n",
    "    def _init_(self):\n",
    "        self.name = input(\"Enter your name:\")\n",
    "        self.__Account_no = int(input(\"Enter your Account number:\"))\n",
    "        self._mobile_no = int(input(\"Enter your mobile name:\"))\n",
    "        self.Deposit = int(input(\"Enter amount for deposit:\"))\n",
    "        self.withdraw = int(input(\"Enter amount you want to withdraw:\"))\n",
    "        self.__current_bal = ((self.Deposit) - (self.withdraw))\n",
    "\n",
    "    def show(self):\n",
    "        print(\"Youe name is :\", self.name)\n",
    "        print(\"your Deposited amount :\", self.Deposit)\n",
    "        print(\"your current balance is :\", self.__current_bal)\n",
    "\n",
    "\n",
    "p = Bank_account()\n",
    "p.show()\n",
    "    \n"
   ]
  },
  {
   "cell_type": "code",
   "execution_count": null,
   "id": "0eb08a26",
   "metadata": {},
   "outputs": [],
   "source": []
  },
  {
   "cell_type": "code",
   "execution_count": null,
   "id": "ad13fd93",
   "metadata": {},
   "outputs": [],
   "source": []
  }
 ],
 "metadata": {
  "kernelspec": {
   "display_name": "Python 3 (ipykernel)",
   "language": "python",
   "name": "python3"
  },
  "language_info": {
   "codemirror_mode": {
    "name": "ipython",
    "version": 3
   },
   "file_extension": ".py",
   "mimetype": "text/x-python",
   "name": "python",
   "nbconvert_exporter": "python",
   "pygments_lexer": "ipython3",
   "version": "3.9.12"
  }
 },
 "nbformat": 4,
 "nbformat_minor": 5
}
